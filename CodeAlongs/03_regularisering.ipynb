{
 "cells": [
  {
   "cell_type": "markdown",
   "metadata": {},
   "source": [
    "# Regularisering Code-Along"
   ]
  },
  {
   "cell_type": "code",
   "execution_count": 2,
   "metadata": {},
   "outputs": [],
   "source": [
    "import pandas as pd\n",
    "import numpy as np\n",
    "from sklearn.preprocessing import PolynomialFeatures, StandardScaler\n",
    "from sklearn.model_selection import train_test_split\n",
    "from sklearn.linear_model import Ridge, Lasso, RidgeCV, LassoCV, ElasticNetCV\n",
    "from sklearn.metrics import mean_squared_error, mean_absolute_error"
   ]
  },
  {
   "cell_type": "code",
   "execution_count": 3,
   "metadata": {},
   "outputs": [],
   "source": [
    "df = pd.read_csv('../data/Advertising.csv', index_col=0)"
   ]
  },
  {
   "cell_type": "code",
   "execution_count": 4,
   "metadata": {},
   "outputs": [
    {
     "data": {
      "text/plain": [
       "array([[2.30100000e+02, 3.78000000e+01, 6.92000000e+01, ...,\n",
       "        9.88757280e+04, 1.81010592e+05, 3.31373888e+05],\n",
       "       [4.45000000e+01, 3.93000000e+01, 4.51000000e+01, ...,\n",
       "        6.96564990e+04, 7.99365930e+04, 9.17338510e+04],\n",
       "       [1.72000000e+01, 4.59000000e+01, 6.93000000e+01, ...,\n",
       "        1.46001933e+05, 2.20434291e+05, 3.32812557e+05],\n",
       "       ...,\n",
       "       [1.77000000e+02, 9.30000000e+00, 6.40000000e+00, ...,\n",
       "        5.53536000e+02, 3.80928000e+02, 2.62144000e+02],\n",
       "       [2.83600000e+02, 4.20000000e+01, 6.62000000e+01, ...,\n",
       "        1.16776800e+05, 1.84062480e+05, 2.90117528e+05],\n",
       "       [2.32100000e+02, 8.60000000e+00, 8.70000000e+00, ...,\n",
       "        6.43452000e+02, 6.50934000e+02, 6.58503000e+02]])"
      ]
     },
     "execution_count": 4,
     "metadata": {},
     "output_type": "execute_result"
    }
   ],
   "source": [
    "X, y = df.drop('Sales', axis=1), df['Sales']\n",
    "\n",
    "model_poly = PolynomialFeatures(3, include_bias=False)\n",
    "\n",
    "poly_features = model_poly.fit_transform(X)"
   ]
  },
  {
   "cell_type": "code",
   "execution_count": 5,
   "metadata": {},
   "outputs": [
    {
     "name": "stdout",
     "output_type": "stream",
     "text": [
      "0.00, 0.19\n"
     ]
    }
   ],
   "source": [
    "X_train, X_test, y_train, y_test = train_test_split(poly_features, y, test_size=0.33, random_state=666)\n",
    "X_train.shape\n",
    "\n",
    "scaler = StandardScaler()\n",
    "\n",
    "scaled_X_train = scaler.fit_transform(X_train)\n",
    "scaled_X_test = scaler.transform(X_test)\n",
    "\n",
    "print(f\"{scaled_X_train.mean():.2f}, {scaled_X_test.mean():.2f}\")"
   ]
  },
  {
   "cell_type": "code",
   "execution_count": 6,
   "metadata": {},
   "outputs": [
    {
     "name": "stdout",
     "output_type": "stream",
     "text": [
      "MSE: 0.26, MAE: 0.37, RMSE: 0.51\n"
     ]
    }
   ],
   "source": [
    "model_ridge = Ridge(alpha=0.1)\n",
    "model_ridge.fit(scaled_X_train, y_train)\n",
    "y_hat = model_ridge.predict(scaled_X_test)\n",
    "\n",
    "MSE = mean_squared_error(y_test, y_hat)\n",
    "MAE = mean_absolute_error(y_test, y_hat)\n",
    "RMSE = np.sqrt(MSE)\n",
    "\n",
    "print(f\"MSE: {MSE:.2f}, MAE: {MAE:.2f}, RMSE: {RMSE:.2f}\")"
   ]
  },
  {
   "cell_type": "code",
   "execution_count": 7,
   "metadata": {},
   "outputs": [
    {
     "name": "stdout",
     "output_type": "stream",
     "text": [
      "MSE: 0.45, MAE: 0.46, RMSE: 0.67\n"
     ]
    }
   ],
   "source": [
    "model_lasso = Lasso(alpha=0.1)\n",
    "model_lasso.fit(scaled_X_train, y_train)\n",
    "y_hat = model_lasso.predict(scaled_X_test)\n",
    "\n",
    "MSE = mean_squared_error(y_test, y_hat)\n",
    "MAE = mean_absolute_error(y_test, y_hat)\n",
    "RMSE = np.sqrt(MSE)\n",
    "\n",
    "print(f\"MSE: {MSE:.2f}, MAE: {MAE:.2f}, RMSE: {RMSE:.2f}\")"
   ]
  },
  {
   "cell_type": "code",
   "execution_count": 8,
   "metadata": {},
   "outputs": [
    {
     "name": "stdout",
     "output_type": "stream",
     "text": [
      "model_ridge_cv.alpha_ = 0.01\n",
      "[  7.76847232   0.06396035   1.04622696 -11.03530778   4.63448084\n",
      "  -2.08257479   0.14628957   0.85159595  -0.97856216   5.24280211\n",
      "  -1.13577397   1.27786021   0.20108405  -0.31909639   0.57385912\n",
      "  -0.01512615  -0.60421138   0.02992473   0.23809013]\n",
      "0.9897033768338359\n",
      "MSE: 0.29, MAE: 0.38, RMSE: 0.54\n"
     ]
    }
   ],
   "source": [
    "model_ridge_cv = RidgeCV(alphas=(.0001, .001, .01, .1, .5, 1, 5, 10), scoring='neg_mean_squared_error')\n",
    "model_ridge_cv.fit(scaled_X_train, y_train)\n",
    "y_hat = model_ridge_cv.predict(scaled_X_test)\n",
    "\n",
    "MSE = mean_squared_error(y_test, y_hat)\n",
    "MAE = mean_absolute_error(y_test, y_hat)\n",
    "RMSE = np.sqrt(MSE)\n",
    "\n",
    "print(f\"{model_ridge_cv.alpha_ = }\")\n",
    "print(model_ridge_cv.coef_)\n",
    "print(model_ridge_cv.score(scaled_X_test, y_test))\n",
    "print(f\"MSE: {MSE:.2f}, MAE: {MAE:.2f}, RMSE: {RMSE:.2f}\")"
   ]
  },
  {
   "cell_type": "code",
   "execution_count": 9,
   "metadata": {},
   "outputs": [
    {
     "name": "stdout",
     "output_type": "stream",
     "text": [
      "model_lasso_cv.alpha_ = 0.004852410006596394\n",
      "[ 5.67453762  0.29909615  0.39709215 -6.46447634  3.93394959 -0.32962402\n",
      "  0.          0.         -0.          2.5387696  -0.3926284   0.\n",
      "  0.10552897 -0.          0.          0.          0.         -0.\n",
      " -0.07319736]\n",
      "0.9927415991077606\n",
      "MSE: 0.21, MAE: 0.34, RMSE: 0.46\n"
     ]
    }
   ],
   "source": [
    "model_lasso_cv = LassoCV(eps=0.001, n_alphas=100, max_iter=10000, cv=5)\n",
    "model_lasso_cv.fit(scaled_X_train, y_train)\n",
    "y_hat = model_lasso_cv.predict(scaled_X_test)\n",
    "\n",
    "MSE = mean_squared_error(y_test, y_hat)\n",
    "MAE = mean_absolute_error(y_test, y_hat)\n",
    "RMSE = np.sqrt(MSE)\n",
    "\n",
    "print(f\"{model_lasso_cv.alpha_ = }\")\n",
    "print(model_lasso_cv.coef_)\n",
    "print(model_lasso_cv.score(scaled_X_test, y_test))\n",
    "print(f\"MSE: {MSE:.2f}, MAE: {MAE:.2f}, RMSE: {RMSE:.2f}\")"
   ]
  },
  {
   "cell_type": "code",
   "execution_count": 10,
   "metadata": {},
   "outputs": [
    {
     "name": "stdout",
     "output_type": "stream",
     "text": [
      "model_elastic_net_cv.alpha_ = 0.004852410006596394\n",
      "model_elastic_net_cv.l1_ratio_ = 1.0\n",
      "[ 5.67453762  0.29909615  0.39709215 -6.46447634  3.93394959 -0.32962402\n",
      "  0.          0.         -0.          2.5387696  -0.3926284   0.\n",
      "  0.10552897 -0.          0.          0.          0.         -0.\n",
      " -0.07319736]\n",
      "0.9927415991077606\n",
      "MSE: 0.21, MAE: 0.34, RMSE: 0.46\n"
     ]
    }
   ],
   "source": [
    "model_elastic_net_cv = ElasticNetCV(l1_ratio=[.1, .5, .7, .9, .95, .99, 1], eps=0.001, n_alphas=100, max_iter=10000, cv=5)\n",
    "model_elastic_net_cv.fit(scaled_X_train, y_train)\n",
    "y_hat = model_elastic_net_cv.predict(scaled_X_test)\n",
    "\n",
    "MSE = mean_squared_error(y_test, y_hat)\n",
    "MAE = mean_absolute_error(y_test, y_hat)\n",
    "RMSE = np.sqrt(MSE)\n",
    "\n",
    "print(f\"{model_elastic_net_cv.alpha_ = }\")\n",
    "print(f\"{model_elastic_net_cv.l1_ratio_ = }\")\n",
    "print(model_elastic_net_cv.coef_)\n",
    "print(model_elastic_net_cv.score(scaled_X_test, y_test))\n",
    "print(f\"MSE: {MSE:.2f}, MAE: {MAE:.2f}, RMSE: {RMSE:.2f}\")"
   ]
  }
 ],
 "metadata": {
  "kernelspec": {
   "display_name": "MachineLearning-Isak-Andersson-0nAm_eHr",
   "language": "python",
   "name": "python3"
  },
  "language_info": {
   "codemirror_mode": {
    "name": "ipython",
    "version": 3
   },
   "file_extension": ".py",
   "mimetype": "text/x-python",
   "name": "python",
   "nbconvert_exporter": "python",
   "pygments_lexer": "ipython3",
   "version": "3.12.0"
  }
 },
 "nbformat": 4,
 "nbformat_minor": 2
}
