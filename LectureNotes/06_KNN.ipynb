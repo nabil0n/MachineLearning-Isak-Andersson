{
 "cells": [
  {
   "cell_type": "markdown",
   "metadata": {},
   "source": [
    "# K- Nearest Neighbour\n",
    "\n",
    "https://scott.fortmann-roe.com/docs/BiasVariance.html"
   ]
  },
  {
   "cell_type": "markdown",
   "metadata": {},
   "source": [
    "- Viktigt att normalisera/skala datan för KNN, annars blir det tokigt! (se sklearn exemplet)\n",
    "    - https://scikit-learn.org/stable/auto_examples/preprocessing/plot_scaling_importance.html\n",
    "- Vi kan mäta avstånd i hur många dimensioner som helst.\n",
    "- Finns många sätt att mäta avstånd, minkowskigt (euclydiskt) kanske är vanligast, men \"taxi-cab\" osv finns också. Se sklearn.metrics.pairwise.distance_metrics\n",
    "- \n",
    "\n",
    "- Det finns ett gäng olika sorter:\n",
    "    - Nearest Neighbour Regression\n",
    "    - Oj, här gick det undan haha, men kolla sklearn\n",
    "    "
   ]
  },
  {
   "cell_type": "markdown",
   "metadata": {},
   "source": [
    "En multi-nomiell (?) är där confusion matrixen blir större, alltså där det är mer än \"sant och falskt\" i x och y."
   ]
  },
  {
   "cell_type": "markdown",
   "metadata": {},
   "source": [
    "*En bra klassifierare (har inte nödvändigtvis något med KNN att göra, mest bara minnesanteckning): RBF SVM. Fler exemepl:*\n",
    "\n",
    "*https://scikit-learn.org/stable/auto_examples/classification/plot_classifier_comparison.html*"
   ]
  },
  {
   "cell_type": "markdown",
   "metadata": {},
   "source": []
  }
 ],
 "metadata": {
  "language_info": {
   "name": "python"
  }
 },
 "nbformat": 4,
 "nbformat_minor": 2
}
