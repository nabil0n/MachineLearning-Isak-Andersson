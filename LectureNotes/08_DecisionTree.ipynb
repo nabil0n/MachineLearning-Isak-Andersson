{
 "cells": [
  {
   "cell_type": "markdown",
   "metadata": {},
   "source": [
    "# Beslutsträd\n",
    "- https://scikit-learn.org/stable/modules/tree.html\n",
    "- https://en.wikipedia.org/wiki/ID3_algorithm"
   ]
  },
  {
   "cell_type": "markdown",
   "metadata": {},
   "source": [
    "- Den första som fungerade väl var ID3, idag används ID4.5\n",
    "- Det är en rekursiv algoritm\n",
    "- Finns olika entropier. Mått på slump. 1=nat (natural), 2=shannon, 10=Hartley. Finns måååånga mer\n",
    "- Du har ett gränsvärde och kollar om det går under eller över. Upprepa sedan steget så skapas det som ett träd av valda och bortvalda värden.\n",
    "- Heuristisk. Det går inte att garantera att modellen hittar den mest optimala lösningen.\n",
    "- Väldigt tydligt statistik!\n",
    "- Beslutsträd har många problem, men för vissa grejer är det optimalt. De är mycket snabba.\n",
    "- Stora träd har ofta fel, så om inte algoritmen har hittat \"rätt\"  innan några steg så bör den avbrytas.\n",
    "- när man avbryter på detta sätt kallas det för en \"stump\".\n",
    "- Många träd ihop blir en skog. skräll.\n",
    "- Decision Forrest"
   ]
  },
  {
   "cell_type": "markdown",
   "metadata": {},
   "source": []
  }
 ],
 "metadata": {
  "language_info": {
   "name": "python"
  }
 },
 "nbformat": 4,
 "nbformat_minor": 2
}
