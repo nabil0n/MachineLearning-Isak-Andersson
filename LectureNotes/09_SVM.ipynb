{
 "cells": [
  {
   "cell_type": "markdown",
   "metadata": {},
   "source": [
    "# SVM - Support Vector Machines\n",
    "https://scikit-learn.org/stable/modules/svm.html#svm\n",
    "\n",
    "IDAG BLIRE MATTE"
   ]
  },
  {
   "cell_type": "markdown",
   "metadata": {},
   "source": [
    "- Grundtanken är att direkt hitta ett hyperplan för att separera klasser. (2d-bilden med att skapa en \"kon\" i 3d för att snyggare ringa in)\n",
    "- Vet inte varför jag skrev detta:\n",
    "    - $\\beta_0 + \\beta_1 x_1 + ... + \\beta_p x_p = 0$ som är samma som $ax + by + cz + d = 0$ om $p = 3$ ($\\beta_0$ är alltså $d$)"
   ]
  },
  {
   "cell_type": "markdown",
   "metadata": {},
   "source": [
    "- Vi ger vilkoret $|n| = 1$ vilket gör att vi kan sätta in vilken vektor som helst och direkt få avståndet till planet (vektorn blir alltid multiplecerad med 1)\n"
   ]
  },
  {
   "cell_type": "markdown",
   "metadata": {},
   "source": [
    "- Vi har tidigare kollat på en minsta-kvadratmetod för att minimera avståndet till alla punkter.\n",
    "- Nu vill vi istället hitta en marginal som är maximal som är så långt ort från alla punkter som möjligt."
   ]
  },
  {
   "cell_type": "markdown",
   "metadata": {},
   "source": [
    "- soft margin:\n",
    "    - Om marginalen måste vara tom så blir metoden känslig för brus.\n",
    "    - Med soft tillåter vi några innanför (?)\n",
    "    - Vi får en budget (C) med hur mycket vi tillåter. (Det Jonatan snackade om!)"
   ]
  },
  {
   "cell_type": "markdown",
   "metadata": {},
   "source": [
    "- The Kernel Trick!\n",
    "    - En kernel är en matris med \"vikter\", alltså nån form av värden. Exemplet med minecraft, en kub som flyttas runt och kollar vad ssom sitter runt den.\n",
    "    - Polynomiella: Beräknar inre produkter för d-dimensionella polynom, motsvarar polynomexpansion\n",
    "    - Radial Basic Function (rbf): **Den vanligaste.**\n",
    "        - $\\gamma$ är en hyperparameter\n",
    "        - om $\\gamma >> 0$, då är std liten och om $\\gamma$ är väldigt nära noll så är std stor"
   ]
  },
  {
   "cell_type": "markdown",
   "metadata": {},
   "source": [
    "- OVA: One vs All\n",
    "    - jämför en klass med alla, en klass i taget.\n",
    "- OVO: One vs One\n",
    "    - Som en roundrobin turnering, alla tävlar mot alla och slår ut varandra.\n",
    "    - pga detta såklart känslig för match-ups"
   ]
  },
  {
   "cell_type": "markdown",
   "metadata": {},
   "source": [
    "SVM ÄR SJUKT BRA MEN DYRT"
   ]
  }
 ],
 "metadata": {
  "kernelspec": {
   "display_name": "MachineLearning-Isak-Andersson-0nAm_eHr",
   "language": "python",
   "name": "python3"
  },
  "language_info": {
   "name": "python",
   "version": "3.12.0"
  }
 },
 "nbformat": 4,
 "nbformat_minor": 2
}
