{
 "cells": [
  {
   "cell_type": "markdown",
   "metadata": {},
   "source": [
    "# Grid search Cross-validation\n",
    "\n",
    "https://scikit-learn.org/stable/modules/generated/sklearn.model_selection.GridSearchCV.html#sklearn.model_selection.GridSearchCV"
   ]
  },
  {
   "cell_type": "markdown",
   "metadata": {},
   "source": [
    "- Hyperparameteroptimisering\n",
    "- Från sklearn:\n",
    "    - Exhaustive search over specified parameter values for an estimator.\n",
    "\n",
    "    - Important members are fit, predict.\n",
    "\n",
    "    - GridSearchCV implements a “fit” and a “score” method. It also implements “score_samples”, “predict”, “predict_proba”, “decision_function”, “transform” and “inverse_transform” if they are implemented in the estimator used.\n",
    "\n",
    "    - The parameters of the estimator used to apply these methods are optimized by cross-validated grid-search over a parameter grid."
   ]
  },
  {
   "cell_type": "markdown",
   "metadata": {},
   "source": [
    "### Pipeline\n",
    "- saker görs i ordning.\n",
    "- Scaler\n",
    "- parameter (ex. 'knn__n_neighbor') TÄNK PÅ DUBBLA UNDERSCORE\n",
    "- "
   ]
  },
  {
   "cell_type": "markdown",
   "metadata": {},
   "source": [
    "## Voting Classifier\n",
    "\n",
    "https://scikit-learn.org/stable/modules/generated/sklearn.ensemble.VotingClassifier.html#sklearn.ensemble.VotingClassifier\n",
    "\n",
    "- En classifier som röstar för vilken form av regression som kommer att fungera bäst.\n",
    "- Säkerligen vad de hemliga algoritmerna i social media bygger på på något sätt; att hitta vad som passar användaren snarare än datan.\n",
    "- Finns Hard och Soft\n",
    "    - Hard, du sätter in vad den ska testa och den bestämmer en som är bäst\n",
    "    - Soft, du får ett mer ambivalent svar och du kan dessutom ge olika vikt till olika modeller."
   ]
  }
 ],
 "metadata": {
  "language_info": {
   "name": "python"
  }
 },
 "nbformat": 4,
 "nbformat_minor": 2
}
