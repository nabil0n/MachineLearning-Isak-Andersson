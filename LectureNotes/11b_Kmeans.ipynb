{
 "cells": [
  {
   "cell_type": "markdown",
   "metadata": {},
   "source": [
    "# K-means\n",
    "https://scikit-learn.org/stable/modules/generated/sklearn.cluster.KMeans.html#sklearn.cluster.KMeans\n",
    "\n",
    "ISLP kapitel 12.4.1\n",
    "\n",
    "*fortsättning på PCA*"
   ]
  },
  {
   "cell_type": "markdown",
   "metadata": {},
   "source": [
    "- Han målar upp en graf med olika blandade punkter och ringar in dem i mindre cirklar.\n",
    "\n",
    "- Klustring\n",
    "    - k-means algoritmen klustrar värden i k-grupper. Är k=2 blir det två grupper osv. (senare ska han gå igenom hirarktisk klustring)\n",
    "    - k-means minimerar *intraklustervariationen*, dvs avståndet mellan punkterna i klustret\n",
    "    - _insert stor jävla formel_"
   ]
  },
  {
   "cell_type": "markdown",
   "metadata": {},
   "source": [
    "- Hirarktisk klustering:\n",
    "    - Returnerar ett träd.\n",
    "    - Du får ut alla möjliga klustringar\n",
    "    - [Dendrogram](https://miro.medium.com/v2/resize:fit:638/0*G1N4dzkweANLGh66.png)"
   ]
  },
  {
   "cell_type": "markdown",
   "metadata": {},
   "source": [
    "- finns många klustringsmetoder\n",
    "    - sklearn.clustering"
   ]
  },
  {
   "cell_type": "markdown",
   "metadata": {},
   "source": [
    "Några tankar till om oövervakad inlärning (både kmeans och PCA):\n",
    "- Hur skalar vi?\n",
    "    - Vi MÅSTE skala.\n",
    "    - om inte x1 x2 osv inte är samma skala så kommer det bli konstigt.\n",
    "    - Standardskalning! (centrering)\n",
    "    - Detta gäller alltid oövervakad inlärning, även alla de vi inte gått igenom!\n",
    "\n",
    "- Vi har inget Y, vad säger det om train test split?\n",
    "    - Vi gör inget sådant! Det finns ju inget responsvärde att jämföra med!\n",
    "\n",
    "- självinlärning\n",
    "    - Alltså, vi gör en oövervakad inl för att sedan titta på problemen som uppkommer och göra övervakad på det\n",
    "    - Dettakan då en alrogirtm få sköta själv."
   ]
  },
  {
   "cell_type": "markdown",
   "metadata": {},
   "source": [
    "- vanligt förekommande\n",
    "    - Gör först en kmeans för att klustra, och sedan KNN för att klassificera\n",
    "    - Vi ersätter vår data med kluster istället\n",
    "    - Kmeans kan se samband på långt avstånd."
   ]
  }
 ],
 "metadata": {
  "language_info": {
   "name": "python"
  }
 },
 "nbformat": 4,
 "nbformat_minor": 2
}
