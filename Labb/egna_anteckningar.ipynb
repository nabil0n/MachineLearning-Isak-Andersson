{
 "cells": [
  {
   "cell_type": "markdown",
   "metadata": {},
   "source": [
    "# Genomgång 5e mars"
   ]
  },
  {
   "cell_type": "markdown",
   "metadata": {},
   "source": [
    "Tänk på\n",
    " - Skriv det med löpande text som en teknisk rapport för ett företag el dyl. Men behöver inte förklara vad en regression är osv, men berätta vad du gör.\n",
    " - IMRAD, Intro, method, Resultat and(analasys) Discussion == Bra sätt att tänka kring hur det skrivs.\n",
    " - Inlämning sker med länk till repo\n",
    "\n",
    " ---\n",
    "\n"
   ]
  },
  {
   "cell_type": "markdown",
   "metadata": {},
   "source": [
    "- a) Hur många är positiva för hjärt-kärlsjukdom och hur många är negativa?\n",
    "- b) Hur stor andel har normala, över normala och långt över normala kolesterolvärden?\n",
    "- c) Hur ser åldersfördelningen ut?\n",
    "- d) Hur stor andel röker?\n",
    "- e) Hur ser viktfördelningen ut?\n",
    "- f) Hur ser längdfördelningen ut?\n",
    "- g) Hur stor andel av kvinnor respektive män har hjärt-kärlsjukdom?"
   ]
  },
  {
   "cell_type": "code",
   "execution_count": null,
   "metadata": {},
   "outputs": [],
   "source": []
  }
 ],
 "metadata": {
  "language_info": {
   "name": "python"
  }
 },
 "nbformat": 4,
 "nbformat_minor": 2
}
