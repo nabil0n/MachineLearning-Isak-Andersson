{
 "cells": [
  {
   "cell_type": "markdown",
   "metadata": {},
   "source": [
    "# Genomgång 5e mars"
   ]
  },
  {
   "cell_type": "markdown",
   "metadata": {},
   "source": [
    "Tänk på\n",
    " - Skriv det med löpande text som en teknisk rapport för ett företag el dyl. Men behöver inte förklara vad en regression är osv, men berätta vad du gör.\n",
    " - IMRAD, Intro, method, Resultat and(analasys) Discussion == Bra sätt att tänka kring hur det skrivs.\n",
    " - Inlämning sker med länk till repo\n",
    "\n",
    " ---\n",
    "\n"
   ]
  },
  {
   "cell_type": "markdown",
   "metadata": {},
   "source": [
    "- a) Hur många är positiva för hjärt-kärlsjukdom och hur många är negativa?\n",
    "- b) Hur stor andel har normala, över normala och långt över normala kolesterolvärden?\n",
    "- c) Hur ser åldersfördelningen ut?\n",
    "- d) Hur stor andel röker?\n",
    "- e) Hur ser viktfördelningen ut?\n",
    "- f) Hur ser längdfördelningen ut?\n",
    "- g) Hur stor andel av kvinnor respektive män har hjärt-kärlsjukdom?"
   ]
  },
  {
   "cell_type": "markdown",
   "metadata": {},
   "source": [
    "---\n",
    "\n",
    "## Att göra"
   ]
  },
  {
   "cell_type": "markdown",
   "metadata": {},
   "source": [
    "**- upg1:**\n",
    "- Skriva text!\n",
    "\n",
    "\n",
    "- Få upp accuracy!\n",
    "    - välj ut något bättre\n",
    "    - hitta tre fungerande\n",
    "\n",
    "- **upg2:**\n",
    "\n",
    "- Studera datan\n",
    "\n",
    "- Vad är upg?\n",
    "    - Läs på\n",
    "\n",
    "- "
   ]
  }
 ],
 "metadata": {
  "language_info": {
   "name": "python"
  }
 },
 "nbformat": 4,
 "nbformat_minor": 2
}
