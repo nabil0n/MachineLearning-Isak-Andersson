{
 "cells": [
  {
   "cell_type": "markdown",
   "metadata": {},
   "source": [
    "# Genomgång 5e mars"
   ]
  },
  {
   "cell_type": "markdown",
   "metadata": {},
   "source": [
    "Tänk på\n",
    " - Skriv det med löpande text som en teknisk rapport för ett företag el dyl. Men behöver inte förklara vad en regression är osv, men berätta vad du gör.\n",
    " - IMRAD, Intro, method, Resultat and(analasys) Discussion == Bra sätt att tänka kring hur det skrivs.\n",
    " - Inlämning sker med länk till repo\n",
    "\n",
    " ---"
   ]
  },
  {
   "cell_type": "markdown",
   "metadata": {},
   "source": [
    "## Att göra"
   ]
  },
  {
   "cell_type": "markdown",
   "metadata": {},
   "source": [
    "\n",
    "- **upg2:**\n",
    "\n"
   ]
  }
 ],
 "metadata": {
  "language_info": {
   "name": "python"
  }
 },
 "nbformat": 4,
 "nbformat_minor": 2
}
